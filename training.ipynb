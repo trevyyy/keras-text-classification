{
 "cells": [
  {
   "cell_type": "code",
   "execution_count": null,
   "id": "initial_id",
   "metadata": {
    "collapsed": true
   },
   "outputs": [],
   "source": [
    "import os\n",
    "\n",
    "os.environ[\"KERAS_BACKEND\"] = \"torch\"\n",
    "\n",
    "# keras_core needs to be imported AFTER the backend is set\n",
    "import keras_core as keras\n",
    "import keras_nlp\n",
    "from sklearn.model_selection import train_test_split\n",
    "from sklearn.metrics import precision_score, recall_score, f1_score\n",
    "import pandas as pd\n",
    "import numpy as np"
   ]
  },
  {
   "cell_type": "code",
   "execution_count": null,
   "outputs": [],
   "source": [
    "# Load your dataset here\n",
    "# It should have 2 columns: 'text_to_classify' and 'category'\n",
    "# 'category' values should be integers\n",
    "data = pd.read_csv('YOUR_FILE_NAME.csv')"
   ],
   "metadata": {
    "collapsed": false
   },
   "id": "3660060d63efe8e2"
  },
  {
   "cell_type": "code",
   "execution_count": null,
   "outputs": [],
   "source": [
    "# Ensure category is present and is type int\n",
    "data = data.dropna(subset=['category'])\n",
    "data['category'] = data['category'].astype(int)\n",
    "data.head()"
   ],
   "metadata": {
    "collapsed": false
   },
   "id": "4cfbf8f897dc2b0e"
  },
  {
   "cell_type": "code",
   "execution_count": null,
   "outputs": [],
   "source": [
    "features = data['text_to_classify']\n",
    "labels = data['category']\n",
    "\n",
    "# Get train/test split of data\n",
    "x_train, x_test, y_train, y_test = train_test_split(features, labels, test_size=0.2, random_state=42)"
   ],
   "metadata": {
    "collapsed": false
   },
   "id": "d8fd0ab643aa4edc"
  },
  {
   "cell_type": "code",
   "execution_count": null,
   "outputs": [],
   "source": [
    "# Load pre-trained TinyBERT classifier\n",
    "classifier = keras_nlp.models.BertClassifier.from_preset(\n",
    "    \"bert_tiny_en_uncased\",\n",
    "    num_classes=len(data.category.unique())\n",
    ")"
   ],
   "metadata": {
    "collapsed": false
   },
   "id": "a5c8374de5847818"
  },
  {
   "cell_type": "code",
   "execution_count": null,
   "outputs": [],
   "source": [
    "# Update model loss function, optimizer, and eval metrics for fine-tuning\n",
    "classifier.compile(\n",
    "    loss=keras.losses.SparseCategoricalCrossentropy(from_logits=True),\n",
    "    optimizer=keras.optimizers.Adam(5e-5),\n",
    "    metrics=[keras.metrics.SparseCategoricalAccuracy()]\n",
    ")"
   ],
   "metadata": {
    "collapsed": false
   },
   "id": "656615c283eac5e2"
  },
  {
   "cell_type": "code",
   "execution_count": null,
   "outputs": [],
   "source": [
    "# Fine-tune classifier on train data split, using 80% for training and 20% for validation\n",
    "# Using 1 epoch for a short training time\n",
    "classifier.fit(x=x_train, y=y_train, batch_size=128, epochs=1, validation_split=0.2)"
   ],
   "metadata": {
    "collapsed": false
   },
   "id": "1a5a23dcf2813b4c"
  },
  {
   "cell_type": "code",
   "execution_count": null,
   "outputs": [],
   "source": [
    "# Test prediction\n",
    "classifier.predict(['test'])[0]"
   ],
   "metadata": {
    "collapsed": false
   },
   "id": "ac61c25386e3300b"
  },
  {
   "cell_type": "code",
   "execution_count": null,
   "outputs": [],
   "source": [
    "# Evaluate model\n",
    "probabilities = classifier.predict(x_test)\n",
    "predictions = [np.argmax(p[0], axis=-1) for p in probabilities]\n",
    "\n",
    "precision = precision_score(y_test, predictions)\n",
    "recall = recall_score(y_test, predictions) \n",
    "f1 = f1_score(y_test, predictions)\n",
    "\n",
    "print(\"Precision:\", precision) \n",
    "print(\"Recall:\", recall)\n",
    "print(\"F1 score:\", f1)"
   ],
   "metadata": {
    "collapsed": false
   },
   "id": "f3fe86842ab0d2c2"
  }
 ],
 "metadata": {
  "kernelspec": {
   "display_name": "Python 3",
   "language": "python",
   "name": "python3"
  },
  "language_info": {
   "codemirror_mode": {
    "name": "ipython",
    "version": 2
   },
   "file_extension": ".py",
   "mimetype": "text/x-python",
   "name": "python",
   "nbconvert_exporter": "python",
   "pygments_lexer": "ipython2",
   "version": "2.7.6"
  }
 },
 "nbformat": 4,
 "nbformat_minor": 5
}
